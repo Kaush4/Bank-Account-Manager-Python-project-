{
 "cells": [
  {
   "cell_type": "code",
   "execution_count": 9,
   "id": "e1145bb8",
   "metadata": {},
   "outputs": [
    {
     "name": "stdout",
     "output_type": "stream",
     "text": [
      "Welcome to Bank of india\n",
      "Enter your account type saving or current: saving\n",
      "Enter customer name: kk\n",
      "**************************************************************************************************************\n",
      "Press D for depositing money\n",
      "Press W for withdrawal of money\n",
      "Press E for exit and take your card\n",
      "**************************************************************************************************************\n",
      "Enter your transaction option: d\n",
      "Enter amount you want to deposite: 500000\n",
      "Balance after deposite is 500000\n",
      "**************************************************************************************************************\n",
      "Press D for depositing money\n",
      "Press W for withdrawal of money\n",
      "Press E for exit and take your card\n",
      "**************************************************************************************************************\n",
      "Enter your transaction option: w\n",
      "Your daily withdrawal limit is 2 lakhs\n",
      "Enter amount you want to withdraw: 200000\n",
      "Balance after withdrawal  is 300000\n",
      "**************************************************************************************************************\n",
      "Press D for depositing money\n",
      "Press W for withdrawal of money\n",
      "Press E for exit and take your card\n",
      "**************************************************************************************************************\n",
      "Enter your transaction option: d\n",
      "Enter amount you want to deposite: 700000\n",
      "Balance after deposite is 1000000\n",
      "**************************************************************************************************************\n",
      "Press D for depositing money\n",
      "Press W for withdrawal of money\n",
      "Press E for exit and take your card\n",
      "**************************************************************************************************************\n",
      "Enter your transaction option: w\n",
      "Your daily withdrawal limit is 2 lakhs\n",
      "Enter amount you want to withdraw: 201000\n",
      "Entered amount is more than daily limit! Try again with lower amount\n"
     ]
    },
    {
     "ename": "SystemExit",
     "evalue": "",
     "output_type": "error",
     "traceback": [
      "An exception has occurred, use %tb to see the full traceback.\n",
      "\u001b[1;31mSystemExit\u001b[0m\n"
     ]
    }
   ],
   "source": [
    "# Banking Project (Bank Account)\n",
    "import sys\n",
    "class Banking:\n",
    "    Bank_name= \"Bank of india\"\n",
    "    def __init__(self,name,amount=0):\n",
    "        self.name= name\n",
    "        self.amount= amount\n",
    "    def deposite(self,amount):\n",
    "        self.amount= self.amount+amount\n",
    "        print(\"Balance after deposite is\",self.amount)\n",
    "    def withdrawal(self,amount):\n",
    "        if amount>self.amount:\n",
    "            print(\"Insufficient balance kindly enter lower amount and try again\")\n",
    "            sys.exit()\n",
    "        self.amount= self.amount-amount\n",
    "        print(\"Balance after withdrawal  is\",self.amount)\n",
    "print(\"Welcome to\",Banking.Bank_name)\n",
    "account_type= input(\"Enter your account type saving or current: \")\n",
    "name= input(\"Enter customer name: \")\n",
    "x= Banking(name)\n",
    "while True:\n",
    "    print(\"**************************************************************************************************************\")\n",
    "    print(\"Press D for depositing money\")\n",
    "    print(\"Press W for withdrawal of money\")\n",
    "    print(\"Press E for exit and take your card\")\n",
    "    print(\"**************************************************************************************************************\")\n",
    "    press= input(\"Enter your transaction option: \")\n",
    "    if account_type.lower()== \"current\":\n",
    "        if press== \"D\" or press== \"d\":\n",
    "            amount= int(input(\"Enter amount you want to deposite: \"))\n",
    "            x.deposite(amount)\n",
    "        elif press== \"W\" or press== \"w\":\n",
    "            amount= int(input(\"Enter amount you want to withdraw: \"))\n",
    "            x.withdrawal(amount)\n",
    "        elif press== \"E\" or press== \"e\":\n",
    "            print(\"Thanks for Banking! Visit again!\")\n",
    "            sys.exit()\n",
    "    elif account_type.lower()== \"saving\":\n",
    "        if press== \"D\" or press== \"d\":\n",
    "            amount= int(input(\"Enter amount you want to deposite: \"))\n",
    "            x.deposite(amount)\n",
    "        elif press== \"W\" or press== \"w\":\n",
    "            print(\"Your daily withdrawal limit is 2 lakhs\")\n",
    "            amount= int(input(\"Enter amount you want to withdraw: \"))\n",
    "            if amount<=200000:\n",
    "                x.withdrawal(amount)\n",
    "            else:\n",
    "                print(\"Entered amount is more than daily limit! Try again with lower amount\")\n",
    "                sys.exit()\n",
    "        elif press== \"E\" or press== \"e\":\n",
    "            print(\"Thanks for Banking! Visit again!\")\n",
    "            sys.exit()\n",
    "    else:\n",
    "        print(\"Entered details are invalid\")"
   ]
  },
  {
   "cell_type": "code",
   "execution_count": null,
   "id": "bdc55b1b",
   "metadata": {},
   "outputs": [],
   "source": []
  }
 ],
 "metadata": {
  "kernelspec": {
   "display_name": "Python 3 (ipykernel)",
   "language": "python",
   "name": "python3"
  },
  "language_info": {
   "codemirror_mode": {
    "name": "ipython",
    "version": 3
   },
   "file_extension": ".py",
   "mimetype": "text/x-python",
   "name": "python",
   "nbconvert_exporter": "python",
   "pygments_lexer": "ipython3",
   "version": "3.9.12"
  }
 },
 "nbformat": 4,
 "nbformat_minor": 5
}
